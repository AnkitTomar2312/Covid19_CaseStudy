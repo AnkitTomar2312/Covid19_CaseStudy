{
 "cells": [
  {
   "cell_type": "markdown",
   "id": "cd85ee4b",
   "metadata": {},
   "source": [
    "### Importing modules"
   ]
  },
  {
   "cell_type": "code",
   "execution_count": null,
   "id": "75a432cd",
   "metadata": {},
   "outputs": [],
   "source": [
    "import pandas as pd\n",
    "import numpy as np\n",
    "import matplotlib.pyplot as plt \n",
    "import seaborn as sns"
   ]
  },
  {
   "cell_type": "markdown",
   "id": "16348839",
   "metadata": {},
   "source": [
    "#### Importing Datasets"
   ]
  },
  {
   "cell_type": "code",
   "execution_count": 8,
   "id": "664bb141",
   "metadata": {},
   "outputs": [],
   "source": [
    "confirmed_cases = pd.read_excel('covid_19_dataset.xlsx', sheet_name='covid_19_confirmed_v1')\n",
    "death_cases = pd.read_excel('covid_19_dataset.xlsx', sheet_name='covid_19_deaths_v1')\n",
    "recovered_cases = pd.read_excel('covid_19_dataset.xlsx', sheet_name='covid_19_recovered_v1')"
   ]
  }
 ],
 "metadata": {
  "kernelspec": {
   "display_name": "Python 3",
   "language": "python",
   "name": "python3"
  },
  "language_info": {
   "codemirror_mode": {
    "name": "ipython",
    "version": 3
   },
   "file_extension": ".py",
   "mimetype": "text/x-python",
   "name": "python",
   "nbconvert_exporter": "python",
   "pygments_lexer": "ipython3",
   "version": "3.12.4"
  }
 },
 "nbformat": 4,
 "nbformat_minor": 5
}

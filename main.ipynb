{
 "cells": [
  {
   "cell_type": "markdown",
   "id": "cd85ee4b",
   "metadata": {},
   "source": [
    "### Importing modules"
   ]
  },
  {
   "cell_type": "code",
   "execution_count": null,
   "id": "75a432cd",
   "metadata": {},
   "outputs": [],
   "source": [
    "import pandas as pd\n",
    "import numpy as np\n",
    "import matplotlib.pyplot as plt \n",
    "import seaborn as sns"
   ]
  },
  {
   "cell_type": "markdown",
   "id": "16348839",
   "metadata": {},
   "source": [
    "#### Importing Datasets"
   ]
  },
  {
   "cell_type": "code",
   "execution_count": 8,
   "id": "664bb141",
   "metadata": {},
   "outputs": [],
   "source": [
    "confirmed_cases = pd.read_excel('covid_19_dataset.xlsx', sheet_name='covid_19_confirmed_v1')\n",
    "death_cases = pd.read_excel('covid_19_dataset.xlsx', sheet_name='covid_19_deaths_v1')\n",
    "recovered_cases = pd.read_excel('covid_19_dataset.xlsx', sheet_name='covid_19_recovered_v1')"
   ]
  },
  {
   "cell_type": "code",
   "execution_count": 20,
   "id": "d1995d7d",
   "metadata": {},
   "outputs": [
    {
     "data": {
      "text/html": [
       "<div>\n",
       "<style scoped>\n",
       "    .dataframe tbody tr th:only-of-type {\n",
       "        vertical-align: middle;\n",
       "    }\n",
       "\n",
       "    .dataframe tbody tr th {\n",
       "        vertical-align: top;\n",
       "    }\n",
       "\n",
       "    .dataframe thead th {\n",
       "        text-align: right;\n",
       "    }\n",
       "</style>\n",
       "<table border=\"1\" class=\"dataframe\">\n",
       "  <thead>\n",
       "    <tr style=\"text-align: right;\">\n",
       "      <th></th>\n",
       "      <th>Province/State</th>\n",
       "      <th>Country/Region</th>\n",
       "      <th>Lat</th>\n",
       "      <th>Long</th>\n",
       "      <th>1/22/20</th>\n",
       "      <th>1/23/20</th>\n",
       "      <th>1/24/20</th>\n",
       "      <th>1/25/20</th>\n",
       "      <th>1/26/20</th>\n",
       "      <th>1/27/20</th>\n",
       "      <th>...</th>\n",
       "      <th>5/20/21</th>\n",
       "      <th>5/21/21</th>\n",
       "      <th>5/22/21</th>\n",
       "      <th>5/23/21</th>\n",
       "      <th>5/24/21</th>\n",
       "      <th>5/25/21</th>\n",
       "      <th>5/26/21</th>\n",
       "      <th>5/27/21</th>\n",
       "      <th>5/28/21</th>\n",
       "      <th>5/29/21</th>\n",
       "    </tr>\n",
       "  </thead>\n",
       "  <tbody>\n",
       "    <tr>\n",
       "      <th>0</th>\n",
       "      <td>NaN</td>\n",
       "      <td>Afghanistan</td>\n",
       "      <td>33.93911</td>\n",
       "      <td>67.709953</td>\n",
       "      <td>0</td>\n",
       "      <td>0</td>\n",
       "      <td>0</td>\n",
       "      <td>0</td>\n",
       "      <td>0</td>\n",
       "      <td>0</td>\n",
       "      <td>...</td>\n",
       "      <td>55687</td>\n",
       "      <td>55790</td>\n",
       "      <td>55889</td>\n",
       "      <td>56035</td>\n",
       "      <td>56295</td>\n",
       "      <td>56518</td>\n",
       "      <td>56711</td>\n",
       "      <td>56962</td>\n",
       "      <td>57119</td>\n",
       "      <td>57281</td>\n",
       "    </tr>\n",
       "    <tr>\n",
       "      <th>1</th>\n",
       "      <td>NaN</td>\n",
       "      <td>Albania</td>\n",
       "      <td>41.15330</td>\n",
       "      <td>20.168300</td>\n",
       "      <td>0</td>\n",
       "      <td>0</td>\n",
       "      <td>0</td>\n",
       "      <td>0</td>\n",
       "      <td>0</td>\n",
       "      <td>0</td>\n",
       "      <td>...</td>\n",
       "      <td>127869</td>\n",
       "      <td>128425</td>\n",
       "      <td>128601</td>\n",
       "      <td>128732</td>\n",
       "      <td>128826</td>\n",
       "      <td>128907</td>\n",
       "      <td>128978</td>\n",
       "      <td>129042</td>\n",
       "      <td>129097</td>\n",
       "      <td>129215</td>\n",
       "    </tr>\n",
       "    <tr>\n",
       "      <th>2</th>\n",
       "      <td>NaN</td>\n",
       "      <td>Algeria</td>\n",
       "      <td>28.03390</td>\n",
       "      <td>1.659600</td>\n",
       "      <td>0</td>\n",
       "      <td>0</td>\n",
       "      <td>0</td>\n",
       "      <td>0</td>\n",
       "      <td>0</td>\n",
       "      <td>0</td>\n",
       "      <td>...</td>\n",
       "      <td>87902</td>\n",
       "      <td>88066</td>\n",
       "      <td>88208</td>\n",
       "      <td>88346</td>\n",
       "      <td>88497</td>\n",
       "      <td>88672</td>\n",
       "      <td>88861</td>\n",
       "      <td>89040</td>\n",
       "      <td>89232</td>\n",
       "      <td>89419</td>\n",
       "    </tr>\n",
       "    <tr>\n",
       "      <th>3</th>\n",
       "      <td>NaN</td>\n",
       "      <td>Andorra</td>\n",
       "      <td>42.50630</td>\n",
       "      <td>1.521800</td>\n",
       "      <td>0</td>\n",
       "      <td>0</td>\n",
       "      <td>0</td>\n",
       "      <td>0</td>\n",
       "      <td>0</td>\n",
       "      <td>0</td>\n",
       "      <td>...</td>\n",
       "      <td>13234</td>\n",
       "      <td>13234</td>\n",
       "      <td>13234</td>\n",
       "      <td>13234</td>\n",
       "      <td>13234</td>\n",
       "      <td>13263</td>\n",
       "      <td>13381</td>\n",
       "      <td>13405</td>\n",
       "      <td>13416</td>\n",
       "      <td>13416</td>\n",
       "    </tr>\n",
       "    <tr>\n",
       "      <th>4</th>\n",
       "      <td>NaN</td>\n",
       "      <td>Angola</td>\n",
       "      <td>-11.20270</td>\n",
       "      <td>17.873900</td>\n",
       "      <td>0</td>\n",
       "      <td>0</td>\n",
       "      <td>0</td>\n",
       "      <td>0</td>\n",
       "      <td>0</td>\n",
       "      <td>0</td>\n",
       "      <td>...</td>\n",
       "      <td>26483</td>\n",
       "      <td>26513</td>\n",
       "      <td>26775</td>\n",
       "      <td>26778</td>\n",
       "      <td>27087</td>\n",
       "      <td>27204</td>\n",
       "      <td>27467</td>\n",
       "      <td>27529</td>\n",
       "      <td>27577</td>\n",
       "      <td>27646</td>\n",
       "    </tr>\n",
       "  </tbody>\n",
       "</table>\n",
       "<p>5 rows × 498 columns</p>\n",
       "</div>"
      ],
      "text/plain": [
       "  Province/State Country/Region       Lat       Long  1/22/20  1/23/20  \\\n",
       "0            NaN    Afghanistan  33.93911  67.709953        0        0   \n",
       "1            NaN        Albania  41.15330  20.168300        0        0   \n",
       "2            NaN        Algeria  28.03390   1.659600        0        0   \n",
       "3            NaN        Andorra  42.50630   1.521800        0        0   \n",
       "4            NaN         Angola -11.20270  17.873900        0        0   \n",
       "\n",
       "   1/24/20  1/25/20  1/26/20  1/27/20  ...  5/20/21  5/21/21  5/22/21  \\\n",
       "0        0        0        0        0  ...    55687    55790    55889   \n",
       "1        0        0        0        0  ...   127869   128425   128601   \n",
       "2        0        0        0        0  ...    87902    88066    88208   \n",
       "3        0        0        0        0  ...    13234    13234    13234   \n",
       "4        0        0        0        0  ...    26483    26513    26775   \n",
       "\n",
       "   5/23/21  5/24/21  5/25/21  5/26/21  5/27/21  5/28/21  5/29/21  \n",
       "0    56035    56295    56518    56711    56962    57119    57281  \n",
       "1   128732   128826   128907   128978   129042   129097   129215  \n",
       "2    88346    88497    88672    88861    89040    89232    89419  \n",
       "3    13234    13234    13263    13381    13405    13416    13416  \n",
       "4    26778    27087    27204    27467    27529    27577    27646  \n",
       "\n",
       "[5 rows x 498 columns]"
      ]
     },
     "execution_count": 20,
     "metadata": {},
     "output_type": "execute_result"
    }
   ],
   "source": [
    "# Check heads\n",
    "recovered_cases.head()"
   ]
  },
  {
   "cell_type": "code",
   "execution_count": 21,
   "id": "7d1fef46",
   "metadata": {},
   "outputs": [
    {
     "data": {
      "text/plain": [
       "Index(['Province/State', 'Country/Region',            'Lat',           'Long',\n",
       "              '1/22/20',        '1/23/20',        '1/24/20',        '1/25/20',\n",
       "              '1/26/20',        '1/27/20',\n",
       "       ...\n",
       "              '5/20/21',        '5/21/21',        '5/22/21',        '5/23/21',\n",
       "              '5/24/21',        '5/25/21',        '5/26/21',        '5/27/21',\n",
       "              '5/28/21',        '5/29/21'],\n",
       "      dtype='object', length=498)"
      ]
     },
     "execution_count": 21,
     "metadata": {},
     "output_type": "execute_result"
    }
   ],
   "source": [
    "recovered_cases.columns"
   ]
  },
  {
   "cell_type": "code",
   "execution_count": 24,
   "id": "9a5982f5",
   "metadata": {},
   "outputs": [],
   "source": [
    "# renaming the column names\n",
    "rename_dict={\n",
    "    'Province/State':'Provinces',\n",
    "    'Country/Region': 'Country'\n",
    "}\n",
    "recovered_cases.rename(columns=rename_dict,inplace=True)\n",
    "death_cases.rename(columns=rename_dict,inplace=True)\n",
    "confirmed_cases.rename(columns=rename_dict,inplace=True)"
   ]
  },
  {
   "cell_type": "code",
   "execution_count": 27,
   "id": "00a57cd7",
   "metadata": {},
   "outputs": [
    {
     "data": {
      "text/plain": [
       "(Index(['Provinces',   'Country',       'Lat',      'Long',   '1/22/20',\n",
       "          '1/23/20',   '1/24/20',   '1/25/20',   '1/26/20',   '1/27/20',\n",
       "        ...\n",
       "          '5/20/21',   '5/21/21',   '5/22/21',   '5/23/21',   '5/24/21',\n",
       "          '5/25/21',   '5/26/21',   '5/27/21',   '5/28/21',   '5/29/21'],\n",
       "       dtype='object', length=498),\n",
       " Index(['Provinces',   'Country',       'Lat',      'Long',   '1/22/20',\n",
       "          '1/23/20',   '1/24/20',   '1/25/20',   '1/26/20',   '1/27/20',\n",
       "        ...\n",
       "          '5/20/21',   '5/21/21',   '5/22/21',   '5/23/21',   '5/24/21',\n",
       "          '5/25/21',   '5/26/21',   '5/27/21',   '5/28/21',   '5/29/21'],\n",
       "       dtype='object', length=498),\n",
       " Index(['Provinces',   'Country',       'Lat',      'Long',   '1/22/20',\n",
       "          '1/23/20',   '1/24/20',   '1/25/20',   '1/26/20',   '1/27/20',\n",
       "        ...\n",
       "          '5/20/21',   '5/21/21',   '5/22/21',   '5/23/21',   '5/24/21',\n",
       "          '5/25/21',   '5/26/21',   '5/27/21',   '5/28/21',   '5/29/21'],\n",
       "       dtype='object', length=498))"
      ]
     },
     "execution_count": 27,
     "metadata": {},
     "output_type": "execute_result"
    }
   ],
   "source": [
    "recovered_cases.columns,death_cases.columns,confirmed_cases.columns"
   ]
  },
  {
   "cell_type": "code",
   "execution_count": 31,
   "id": "df578b2d",
   "metadata": {},
   "outputs": [
    {
     "name": "stdout",
     "output_type": "stream",
     "text": [
      "Confirmed Cases Shape:  (276, 498)\n",
      "Death Cases Shape:  (276, 498)\n",
      "Recovered Cases Shape:  (261, 498)\n"
     ]
    }
   ],
   "source": [
    "# Check shape\n",
    "print('Confirmed Cases Shape: ',confirmed_cases.shape)\n",
    "print('Death Cases Shape: ',death_cases.shape)\n",
    "print('Recovered Cases Shape: ',recovered_cases.shape)"
   ]
  }
 ],
 "metadata": {
  "kernelspec": {
   "display_name": "Python 3",
   "language": "python",
   "name": "python3"
  },
  "language_info": {
   "codemirror_mode": {
    "name": "ipython",
    "version": 3
   },
   "file_extension": ".py",
   "mimetype": "text/x-python",
   "name": "python",
   "nbconvert_exporter": "python",
   "pygments_lexer": "ipython3",
   "version": "3.12.4"
  }
 },
 "nbformat": 4,
 "nbformat_minor": 5
}
